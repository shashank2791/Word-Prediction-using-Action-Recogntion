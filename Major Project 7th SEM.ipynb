{
 "cells": [
  {
   "cell_type": "code",
   "execution_count": 1,
   "id": "75593ef3",
   "metadata": {
    "collapsed": true
   },
   "outputs": [
    {
     "name": "stdout",
     "output_type": "stream",
     "text": [
      "Requirement already satisfied: tensorflow in c:\\users\\1234m\\appdata\\local\\programs\\python\\python39\\lib\\site-packages (2.5.0rc1)\n",
      "Requirement already satisfied: tensorflow-gpu in c:\\users\\1234m\\appdata\\local\\programs\\python\\python39\\lib\\site-packages (2.5.1)\n",
      "Requirement already satisfied: opencv-python in c:\\users\\1234m\\appdata\\local\\programs\\python\\python39\\lib\\site-packages (4.5.4.60)\n",
      "Requirement already satisfied: mediapipe in c:\\users\\1234m\\appdata\\local\\programs\\python\\python39\\lib\\site-packages (0.8.8.1)\n",
      "Requirement already satisfied: sklearn in c:\\users\\1234m\\appdata\\local\\programs\\python\\python39\\lib\\site-packages (0.0)\n",
      "Requirement already satisfied: matplotlib in c:\\users\\1234m\\appdata\\local\\programs\\python\\python39\\lib\\site-packages (3.4.1)\n",
      "Requirement already satisfied: flatbuffers~=1.12.0 in c:\\users\\1234m\\appdata\\local\\programs\\python\\python39\\lib\\site-packages (from tensorflow) (1.12)\n",
      "Requirement already satisfied: opt-einsum~=3.3.0 in c:\\users\\1234m\\appdata\\local\\programs\\python\\python39\\lib\\site-packages (from tensorflow) (3.3.0)\n",
      "Requirement already satisfied: protobuf>=3.9.2 in c:\\users\\1234m\\appdata\\local\\programs\\python\\python39\\lib\\site-packages (from tensorflow) (3.15.8)\n",
      "Requirement already satisfied: h5py~=3.1.0 in c:\\users\\1234m\\appdata\\local\\programs\\python\\python39\\lib\\site-packages (from tensorflow) (3.1.0)\n",
      "Requirement already satisfied: tensorflow-estimator<2.6.0,>=2.5.0rc0 in c:\\users\\1234m\\appdata\\local\\programs\\python\\python39\\lib\\site-packages (from tensorflow) (2.5.0)\n",
      "Requirement already satisfied: tensorboard~=2.4 in c:\\users\\1234m\\appdata\\local\\programs\\python\\python39\\lib\\site-packages (from tensorflow) (2.5.0)\n",
      "Requirement already satisfied: wheel~=0.35 in c:\\users\\1234m\\appdata\\local\\programs\\python\\python39\\lib\\site-packages (from tensorflow) (0.36.2)\n",
      "Requirement already satisfied: absl-py~=0.10 in c:\\users\\1234m\\appdata\\local\\programs\\python\\python39\\lib\\site-packages (from tensorflow) (0.12.0)\n",
      "Requirement already satisfied: numpy~=1.19.2 in c:\\users\\1234m\\appdata\\local\\programs\\python\\python39\\lib\\site-packages (from tensorflow) (1.19.5)\n",
      "Requirement already satisfied: termcolor~=1.1.0 in c:\\users\\1234m\\appdata\\local\\programs\\python\\python39\\lib\\site-packages (from tensorflow) (1.1.0)\n",
      "Requirement already satisfied: keras-nightly~=2.5.0.dev in c:\\users\\1234m\\appdata\\local\\programs\\python\\python39\\lib\\site-packages (from tensorflow) (2.5.0.dev2021032900)\n",
      "Requirement already satisfied: six~=1.15.0 in c:\\users\\1234m\\appdata\\local\\programs\\python\\python39\\lib\\site-packages (from tensorflow) (1.15.0)\n",
      "Requirement already satisfied: wrapt~=1.12.1 in c:\\users\\1234m\\appdata\\roaming\\python\\python39\\site-packages (from tensorflow) (1.12.1)\n",
      "Requirement already satisfied: grpcio~=1.34.0 in c:\\users\\1234m\\appdata\\local\\programs\\python\\python39\\lib\\site-packages (from tensorflow) (1.34.1)\n",
      "Requirement already satisfied: google-pasta~=0.2 in c:\\users\\1234m\\appdata\\local\\programs\\python\\python39\\lib\\site-packages (from tensorflow) (0.2.0)\n",
      "Requirement already satisfied: typing-extensions~=3.7.4 in c:\\users\\1234m\\appdata\\local\\programs\\python\\python39\\lib\\site-packages (from tensorflow) (3.7.4.3)\n",
      "Requirement already satisfied: astunparse~=1.6.3 in c:\\users\\1234m\\appdata\\local\\programs\\python\\python39\\lib\\site-packages (from tensorflow) (1.6.3)\n",
      "Requirement already satisfied: keras-preprocessing~=1.1.2 in c:\\users\\1234m\\appdata\\local\\programs\\python\\python39\\lib\\site-packages (from tensorflow) (1.1.2)\n",
      "Requirement already satisfied: gast==0.4.0 in c:\\users\\1234m\\appdata\\local\\programs\\python\\python39\\lib\\site-packages (from tensorflow) (0.4.0)\n",
      "Requirement already satisfied: attrs>=19.1.0 in c:\\users\\1234m\\appdata\\local\\programs\\python\\python39\\lib\\site-packages (from mediapipe) (20.3.0)\n",
      "Requirement already satisfied: opencv-contrib-python in c:\\users\\1234m\\appdata\\local\\programs\\python\\python39\\lib\\site-packages (from mediapipe) (4.5.3.56)\n",
      "Requirement already satisfied: scikit-learn in c:\\users\\1234m\\appdata\\local\\programs\\python\\python39\\lib\\site-packages (from sklearn) (1.0.1)\n",
      "Requirement already satisfied: pyparsing>=2.2.1 in c:\\users\\1234m\\appdata\\local\\programs\\python\\python39\\lib\\site-packages (from matplotlib) (2.4.7)\n",
      "Requirement already satisfied: pillow>=6.2.0 in c:\\users\\1234m\\appdata\\local\\programs\\python\\python39\\lib\\site-packages (from matplotlib) (8.2.0)\n",
      "Requirement already satisfied: cycler>=0.10 in c:\\users\\1234m\\appdata\\local\\programs\\python\\python39\\lib\\site-packages (from matplotlib) (0.10.0)\n",
      "Requirement already satisfied: kiwisolver>=1.0.1 in c:\\users\\1234m\\appdata\\local\\programs\\python\\python39\\lib\\site-packages (from matplotlib) (1.3.1)\n",
      "Requirement already satisfied: python-dateutil>=2.7 in c:\\users\\1234m\\appdata\\local\\programs\\python\\python39\\lib\\site-packages (from matplotlib) (2.8.1)\n",
      "Requirement already satisfied: markdown>=2.6.8 in c:\\users\\1234m\\appdata\\local\\programs\\python\\python39\\lib\\site-packages (from tensorboard~=2.4->tensorflow) (3.3.4)\n",
      "Requirement already satisfied: tensorboard-plugin-wit>=1.6.0 in c:\\users\\1234m\\appdata\\local\\programs\\python\\python39\\lib\\site-packages (from tensorboard~=2.4->tensorflow) (1.8.0)\n",
      "Requirement already satisfied: werkzeug>=0.11.15 in c:\\users\\1234m\\appdata\\local\\programs\\python\\python39\\lib\\site-packages (from tensorboard~=2.4->tensorflow) (2.0.1)\n",
      "Requirement already satisfied: google-auth<2,>=1.6.3 in c:\\users\\1234m\\appdata\\local\\programs\\python\\python39\\lib\\site-packages (from tensorboard~=2.4->tensorflow) (1.29.0)\n",
      "Requirement already satisfied: requests<3,>=2.21.0 in c:\\users\\1234m\\appdata\\local\\programs\\python\\python39\\lib\\site-packages (from tensorboard~=2.4->tensorflow) (2.25.1)\n",
      "Requirement already satisfied: setuptools>=41.0.0 in c:\\users\\1234m\\appdata\\local\\programs\\python\\python39\\lib\\site-packages (from tensorboard~=2.4->tensorflow) (49.2.1)\n",
      "Requirement already satisfied: tensorboard-data-server<0.7.0,>=0.6.0 in c:\\users\\1234m\\appdata\\local\\programs\\python\\python39\\lib\\site-packages (from tensorboard~=2.4->tensorflow) (0.6.0)\n",
      "Requirement already satisfied: google-auth-oauthlib<0.5,>=0.4.1 in c:\\users\\1234m\\appdata\\local\\programs\\python\\python39\\lib\\site-packages (from tensorboard~=2.4->tensorflow) (0.4.4)\n",
      "Requirement already satisfied: joblib>=0.11 in c:\\users\\1234m\\appdata\\local\\programs\\python\\python39\\lib\\site-packages (from scikit-learn->sklearn) (1.0.1)\n",
      "Requirement already satisfied: scipy>=1.1.0 in c:\\users\\1234m\\appdata\\local\\programs\\python\\python39\\lib\\site-packages (from scikit-learn->sklearn) (1.6.2)\n",
      "Requirement already satisfied: threadpoolctl>=2.0.0 in c:\\users\\1234m\\appdata\\local\\programs\\python\\python39\\lib\\site-packages (from scikit-learn->sklearn) (2.1.0)\n",
      "Requirement already satisfied: rsa<5,>=3.1.4 in c:\\users\\1234m\\appdata\\local\\programs\\python\\python39\\lib\\site-packages (from google-auth<2,>=1.6.3->tensorboard~=2.4->tensorflow) (4.7.2)\n",
      "Requirement already satisfied: pyasn1-modules>=0.2.1 in c:\\users\\1234m\\appdata\\local\\programs\\python\\python39\\lib\\site-packages (from google-auth<2,>=1.6.3->tensorboard~=2.4->tensorflow) (0.2.8)\n",
      "Requirement already satisfied: cachetools<5.0,>=2.0.0 in c:\\users\\1234m\\appdata\\local\\programs\\python\\python39\\lib\\site-packages (from google-auth<2,>=1.6.3->tensorboard~=2.4->tensorflow) (4.2.1)\n",
      "Requirement already satisfied: requests-oauthlib>=0.7.0 in c:\\users\\1234m\\appdata\\local\\programs\\python\\python39\\lib\\site-packages (from google-auth-oauthlib<0.5,>=0.4.1->tensorboard~=2.4->tensorflow) (1.3.0)\n",
      "Requirement already satisfied: idna<3,>=2.5 in c:\\users\\1234m\\appdata\\local\\programs\\python\\python39\\lib\\site-packages (from requests<3,>=2.21.0->tensorboard~=2.4->tensorflow) (2.10)\n",
      "Requirement already satisfied: urllib3<1.27,>=1.21.1 in c:\\users\\1234m\\appdata\\local\\programs\\python\\python39\\lib\\site-packages (from requests<3,>=2.21.0->tensorboard~=2.4->tensorflow) (1.26.4)\n",
      "Requirement already satisfied: chardet<5,>=3.0.2 in c:\\users\\1234m\\appdata\\local\\programs\\python\\python39\\lib\\site-packages (from requests<3,>=2.21.0->tensorboard~=2.4->tensorflow) (4.0.0)\n",
      "Requirement already satisfied: certifi>=2017.4.17 in c:\\users\\1234m\\appdata\\local\\programs\\python\\python39\\lib\\site-packages (from requests<3,>=2.21.0->tensorboard~=2.4->tensorflow) (2020.12.5)\n",
      "Requirement already satisfied: pyasn1<0.5.0,>=0.4.6 in c:\\users\\1234m\\appdata\\local\\programs\\python\\python39\\lib\\site-packages (from pyasn1-modules>=0.2.1->google-auth<2,>=1.6.3->tensorboard~=2.4->tensorflow) (0.4.8)\n",
      "Requirement already satisfied: oauthlib>=3.0.0 in c:\\users\\1234m\\appdata\\local\\programs\\python\\python39\\lib\\site-packages (from requests-oauthlib>=0.7.0->google-auth-oauthlib<0.5,>=0.4.1->tensorboard~=2.4->tensorflow) (3.1.0)\n"
     ]
    }
   ],
   "source": [
    "!pip install tensorflow tensorflow-gpu opencv-python mediapipe sklearn matplotlib\n",
    "# opencv is used for webcam and live video feed \n",
    "# mediapipe is used for keypoint extraction \n",
    "# sklearn is used for evaluation matrix, model accuracy and train and test split of data \n",
    "# matplotlib is used for visualisation of images"
   ]
  },
  {
   "cell_type": "code",
   "execution_count": 2,
   "id": "6a90af47",
   "metadata": {
    "collapsed": true
   },
   "outputs": [
    {
     "name": "stdout",
     "output_type": "stream",
     "text": [
      "Requirement already satisfied: pip in c:\\users\\1234m\\appdata\\local\\programs\\python\\python39\\lib\\site-packages (21.3.1)\n"
     ]
    },
    {
     "name": "stderr",
     "output_type": "stream",
     "text": [
      "WARNING: Retrying (Retry(total=4, connect=None, read=None, redirect=None, status=None)) after connection broken by 'ConnectTimeoutError(<pip._vendor.urllib3.connection.HTTPSConnection object at 0x000001C10F71E490>, 'Connection to pypi.org timed out. (connect timeout=15)')': /simple/pip/\n"
     ]
    }
   ],
   "source": [
    "!pip install --upgrade pip"
   ]
  },
  {
   "cell_type": "code",
   "execution_count": 3,
   "id": "60c1d4c9",
   "metadata": {},
   "outputs": [],
   "source": [
    "import cv2\n",
    "import numpy as np # for working with arrays\n",
    "import os # for working with file paths\n",
    "from matplotlib import pyplot as plt # for visualisation of images\n",
    "import time # for working with frames of live video\n",
    "import mediapipe as mp"
   ]
  },
  {
   "cell_type": "code",
   "execution_count": 4,
   "id": "2ac5791c",
   "metadata": {},
   "outputs": [],
   "source": [
    "mp_holistic = mp.solutions.holistic # Holistic model for object detection\n",
    "mp_drawing = mp.solutions.drawing_utils # Drawing utilities for drawing the detections from mediapipe"
   ]
  },
  {
   "cell_type": "code",
   "execution_count": 5,
   "id": "0813ab9a",
   "metadata": {},
   "outputs": [],
   "source": [
    "# Opencv detects image in BGR Format and Mediapipe detects image in RGB so we have to perform colour conversion on image \n",
    "# before passing the image from Opencv to mediapipe functions. \n",
    "\n",
    "def mediapipe_detection(image, model):\n",
    "    image = cv2.cvtColor(image, cv2.COLOR_BGR2RGB) # COLOR CONVERSION BGR 2 RGB \n",
    "    image.flags.writeable = False                  # Image is no longer writeable to save memory\n",
    "    results = model.process(image)                 # Make prediction\n",
    "    image.flags.writeable = True                   # Image is now writeable \n",
    "    image = cv2.cvtColor(image, cv2.COLOR_RGB2BGR) # COLOR COVERSION RGB 2 BGR\n",
    "    return image, results"
   ]
  },
  {
   "cell_type": "code",
   "execution_count": 6,
   "id": "0a66ebee",
   "metadata": {},
   "outputs": [],
   "source": [
    "def draw_landmarks(image, results):\n",
    "    mp_drawing.draw_landmarks(image, results.face_landmarks, mp_holistic.FACEMESH_TESSELATION) # Draw face connections\n",
    "    mp_drawing.draw_landmarks(image, results.pose_landmarks, mp_holistic.POSE_CONNECTIONS) # Draw pose connections\n",
    "    mp_drawing.draw_landmarks(image, results.left_hand_landmarks, mp_holistic.HAND_CONNECTIONS) # Draw left hand connections\n",
    "    mp_drawing.draw_landmarks(image, results.right_hand_landmarks, mp_holistic.HAND_CONNECTIONS) # Draw right hand connections"
   ]
  },
  {
   "cell_type": "code",
   "execution_count": 7,
   "id": "442ace62",
   "metadata": {},
   "outputs": [],
   "source": [
    "def draw_styled_landmarks(image, results):\n",
    "    # Draw face connections\n",
    "    mp_drawing.draw_landmarks(image, results.face_landmarks, mp_holistic.FACEMESH_TESSELATION, \n",
    "                             mp_drawing.DrawingSpec(color=(100,110,50), thickness=1, circle_radius=1), \n",
    "                             mp_drawing.DrawingSpec(color=(100,256,121), thickness=1, circle_radius=1)\n",
    "                             )\n",
    "    # Draw pose connections\n",
    "    mp_drawing.draw_landmarks(image, results.pose_landmarks, mp_holistic.POSE_CONNECTIONS,\n",
    "                             mp_drawing.DrawingSpec(color=(90,32,20), thickness=2, circle_radius=4), \n",
    "                             mp_drawing.DrawingSpec(color=(90,54,221), thickness=2, circle_radius=2)\n",
    "                             ) \n",
    "    # Draw left hand connections\n",
    "    mp_drawing.draw_landmarks(image, results.left_hand_landmarks, mp_holistic.HAND_CONNECTIONS, \n",
    "                             mp_drawing.DrawingSpec(color=(221,32,86), thickness=2, circle_radius=4), \n",
    "                             mp_drawing.DrawingSpec(color=(221,54,250), thickness=2, circle_radius=2)\n",
    "                             ) \n",
    "    # Draw right hand connections  \n",
    "    mp_drawing.draw_landmarks(image, results.right_hand_landmarks, mp_holistic.HAND_CONNECTIONS, \n",
    "                             mp_drawing.DrawingSpec(color=(255,120,65), thickness=2, circle_radius=4), \n",
    "                             mp_drawing.DrawingSpec(color=(255,76,235), thickness=2, circle_radius=2)\n",
    "                             ) "
   ]
  },
  {
   "cell_type": "code",
   "execution_count": 46,
   "id": "c385c03f",
   "metadata": {},
   "outputs": [],
   "source": [
    "#FOR CAPTURING LIVE VIDEO FEED USING OPENCV\n",
    "\n",
    "cap = cv2.VideoCapture(0) #DEFAULT VIDEO FEED \n",
    "\n",
    "# Set mediapipe model \n",
    "# min_detection_confidence is the initial tracking parameter and tracking confidence is the tracking parameter for the holistic \n",
    "# mediapipe model\n",
    "\n",
    "with mp_holistic.Holistic(min_detection_confidence=0.5, min_tracking_confidence=0.5) as holistic:\n",
    "    while cap.isOpened(): # loop through all the frames to make a video\n",
    "\n",
    "        # Read feed\n",
    "        ret, frame = cap.read()\n",
    "\n",
    "        # Make detections\n",
    "        image, results = mediapipe_detection(frame, holistic)\n",
    "        \n",
    "        # Draw landmarks\n",
    "        draw_styled_landmarks(image, results)\n",
    "\n",
    "        # Show to screen\n",
    "        cv2.imshow('Sign Language Detector', image)\n",
    "\n",
    "        # Break gracefully\n",
    "        if cv2.waitKey(10) & 0xFF == ord('q'):\n",
    "            break\n",
    "    cap.release()\n",
    "    cv2.destroyAllWindows()"
   ]
  },
  {
   "cell_type": "code",
   "execution_count": 7,
   "id": "047c1419",
   "metadata": {},
   "outputs": [],
   "source": [
    "draw_landmarks(frame, results)"
   ]
  },
  {
   "cell_type": "code",
   "execution_count": 8,
   "id": "42f65a97",
   "metadata": {},
   "outputs": [
    {
     "data": {
      "text/plain": [
       "<matplotlib.image.AxesImage at 0x1ca2007fb50>"
      ]
     },
     "execution_count": 8,
     "metadata": {},
     "output_type": "execute_result"
    },
    {
     "data": {
      "image/png": "[encoded data removed]",
      "text/plain": [
       "<Figure size 432x288 with 1 Axes>"
      ]
     },
     "metadata": {
      "needs_background": "light"
     },
     "output_type": "display_data"
    }
   ],
   "source": [
    "plt.imshow(cv2.cvtColor(frame, cv2.COLOR_BGR2RGB))"
   ]
  },
  {
   "cell_type": "code",
   "execution_count": 9,
   "id": "2b565459",
   "metadata": {},
   "outputs": [
    {
     "data": {
      "text/plain": [
       "array([x: 0.15623291\n",
       "y: 0.7830004\n",
       "z: 4.2295102e-07\n",
       ",\n",
       "       x: 0.23571028\n",
       "y: 0.753229\n",
       "z: -0.036304373\n",
       ",\n",
       "       x: 0.29294258\n",
       "y: 0.6654038\n",
       "z: -0.043918155\n",
       ",\n",
       "       x: 0.31578895\n",
       "y: 0.57499605\n",
       "z: -0.048330594\n",
       ",\n",
       "       x: 0.34375724\n",
       "y: 0.5149767\n",
       "z: -0.05114692\n",
       ",\n",
       "       x: 0.24669106\n",
       "y: 0.5220623\n",
       "z: -0.0047094356\n",
       ",\n",
       "       x: 0.26046214\n",
       "y: 0.4269777\n",
       "z: -0.01815549\n",
       ",\n",
       "       x: 0.26329675\n",
       "y: 0.365612\n",
       "z: -0.033037037\n",
       ",\n",
       "       x: 0.2648268\n",
       "y: 0.31444123\n",
       "z: -0.044574223\n",
       ",\n",
       "       x: 0.20093782\n",
       "y: 0.5070046\n",
       "z: 0.000644497\n",
       ",\n",
       "       x: 0.21244745\n",
       "y: 0.40183106\n",
       "z: -0.010939375\n",
       ",\n",
       "       x: 0.22008735\n",
       "y: 0.3351016\n",
       "z: -0.025780836\n",
       ",\n",
       "       x: 0.22819287\n",
       "y: 0.28162146\n",
       "z: -0.03686937\n",
       ",\n",
       "       x: 0.15675128\n",
       "y: 0.51254475\n",
       "z: -0.0003861447\n",
       ",\n",
       "       x: 0.16291924\n",
       "y: 0.41048816\n",
       "z: -0.015890129\n",
       ",\n",
       "       x: 0.17012085\n",
       "y: 0.3466376\n",
       "z: -0.02993083\n",
       ",\n",
       "       x: 0.17950542\n",
       "y: 0.29455268\n",
       "z: -0.039242852\n",
       ",\n",
       "       x: 0.10975463\n",
       "y: 0.5349919\n",
       "z: -0.005471316\n",
       ",\n",
       "       x: 0.10305675\n",
       "y: 0.4523637\n",
       "z: -0.022229146\n",
       ",\n",
       "       x: 0.10158307\n",
       "y: 0.39843845\n",
       "z: -0.03202057\n",
       ",\n",
       "       x: 0.104172476\n",
       "y: 0.3480605\n",
       "z: -0.037970107\n",
       "], dtype=object)"
      ]
     },
     "execution_count": 9,
     "metadata": {},
     "output_type": "execute_result"
    }
   ],
   "source": [
    "np.array(results.right_hand_landmarks.landmark)"
   ]
  },
  {
   "cell_type": "code",
   "execution_count": 10,
   "id": "ba102168",
   "metadata": {},
   "outputs": [
    {
     "data": {
      "text/plain": [
       "21"
      ]
     },
     "execution_count": 10,
     "metadata": {},
     "output_type": "execute_result"
    }
   ],
   "source": [
    "len(results.right_hand_landmarks.landmark)"
   ]
  },
  {
   "cell_type": "code",
   "execution_count": 11,
   "id": "b9e68366",
   "metadata": {},
   "outputs": [],
   "source": [
    "# TO WORK WITH THE RESULTS WE NEED TO CONVERT THE LANDMARKS INTO A NUMPY ARRAY. \n",
    "\n",
    "pose = []\n",
    "for res in results.pose_landmarks.landmark:\n",
    "    test = np.array([res.x, res.y, res.z, res.visibility])\n",
    "    pose.append(test)"
   ]
  },
  {
   "cell_type": "code",
   "execution_count": 44,
   "id": "8a2e30f6",
   "metadata": {},
   "outputs": [],
   "source": [
    "# SIMILARLY CONVERT REST OF THE LANDMARKS INTO A NUMPY ARRAY. IF THE OBJECT IS NOT DETECTED WE WILL INITALIZE IT WITH A \n",
    "# ZERO ARRAY THAT MEANS THE OBEJCT WAS NOT DETECTED IN THE FRAME.\n",
    "\n",
    "def extract_keypoints(results):\n",
    "    pose = np.array([[res.x, res.y, res.z, res.visibility] for res in results.pose_landmarks.landmark]).flatten() if results.pose_landmarks else np.zeros(33*4)\n",
    "    face = np.array([[res.x, res.y, res.z] for res in results.face_landmarks.landmark]).flatten() if results.face_landmarks else np.zeros(468*3)\n",
    "    lh = np.array([[res.x, res.y, res.z] for res in results.left_hand_landmarks.landmark]).flatten() if results.left_hand_landmarks else np.zeros(21*3)\n",
    "    rh = np.array([[res.x, res.y, res.z] for res in results.right_hand_landmarks.landmark]).flatten() if results.right_hand_landmarks else np.zeros(21*3)\n",
    "    return np.concatenate([pose, face, lh, rh])"
   ]
  },
  {
   "cell_type": "code",
   "execution_count": 13,
   "id": "c995fb81",
   "metadata": {},
   "outputs": [
    {
     "data": {
      "text/plain": [
       "(1662,)"
      ]
     },
     "execution_count": 13,
     "metadata": {},
     "output_type": "execute_result"
    }
   ],
   "source": [
    "extract_keypoints(results).shape"
   ]
  },
  {
   "cell_type": "code",
   "execution_count": 14,
   "id": "ef77bc55",
   "metadata": {},
   "outputs": [],
   "source": [
    "result_test = extract_keypoints(results)"
   ]
  },
  {
   "cell_type": "code",
   "execution_count": 15,
   "id": "07167c43",
   "metadata": {},
   "outputs": [
    {
     "data": {
      "text/plain": [
       "array([ 0.57242692,  0.59447223, -1.38435721, ...,  0.10417248,\n",
       "        0.34806049, -0.03797011])"
      ]
     },
     "execution_count": 15,
     "metadata": {},
     "output_type": "execute_result"
    }
   ],
   "source": [
    "result_test"
   ]
  },
  {
   "cell_type": "code",
   "execution_count": 16,
   "id": "4f714403",
   "metadata": {},
   "outputs": [],
   "source": [
    "np.save('0', result_test)"
   ]
  },
  {
   "cell_type": "code",
   "execution_count": 17,
   "id": "307ea7a6",
   "metadata": {},
   "outputs": [
    {
     "data": {
      "text/plain": [
       "array([ 0.57242692,  0.59447223, -1.38435721, ...,  0.10417248,\n",
       "        0.34806049, -0.03797011])"
      ]
     },
     "execution_count": 17,
     "metadata": {},
     "output_type": "execute_result"
    }
   ],
   "source": [
    "np.load('0.npy')"
   ]
  },
  {
   "cell_type": "code",
   "execution_count": 8,
   "id": "1747395b",
   "metadata": {},
   "outputs": [],
   "source": [
    "# Path for exported data, numpy arrays\n",
    "DATA_PATH = os.path.join('MP_Data') \n",
    "\n",
    "# Actions that we try to detect\n",
    "actions = np.array(['accident', 'call', 'doctor','help', 'hot', 'lose','pain','thief'])\n",
    "\n",
    "# Sixty videos per action\n",
    "no_sequences = 60\n",
    "\n",
    "# Videos are going to be 30 frames in length\n",
    "sequence_length = 30\n",
    "\n",
    "# Folder start\n",
    "#start_folder = 30"
   ]
  },
  {
   "cell_type": "code",
   "execution_count": 11,
   "id": "cc17e4ae",
   "metadata": {},
   "outputs": [],
   "source": [
    "# WE ARE CREATING 1 FOLDER FOR EACH ACTION AND EACH FOLDER WILL CONTAIN 30 VIDEOS AND EACH VIDEO WILL HAVE 30 FRAMES. \n",
    "\n",
    "# for action in actions: \n",
    "#     dirmax = np.max(np.array(os.listdir(os.path.join(DATA_PATH, action))).astype(int))\n",
    "#     for sequence in range(1,no_sequences+1):\n",
    "#         try: \n",
    "#             os.makedirs(os.path.join(DATA_PATH, action, str(dirmax+sequence)))\n",
    "#         except:\n",
    "#             pass"
   ]
  },
  {
   "cell_type": "code",
   "execution_count": 21,
   "id": "052c196d",
   "metadata": {},
   "outputs": [],
   "source": [
    "#For building the dataset\n",
    "\n",
    "# cap = cv2.VideoCapture(0)\n",
    "# # Set mediapipe model \n",
    "# with mp_holistic.Holistic(min_detection_confidence=0.5, min_tracking_confidence=0.5) as holistic:\n",
    "    \n",
    "#     # NEW LOOP\n",
    "#     # Loop through actions\n",
    "#     for action in actions:\n",
    "#         # Loop through sequences/videos\n",
    "#         for sequence in range(1,no_sequences+1):\n",
    "#             # Loop through video length aka sequence length\n",
    "#             for frame_num in range(sequence_length):\n",
    "\n",
    "#                 # Read feed\n",
    "#                 ret, frame = cap.read()\n",
    "\n",
    "#                 # Make detections\n",
    "#                 image, results = mediapipe_detection(frame, holistic)\n",
    "\n",
    "#                 # Draw landmarks\n",
    "#                 draw_styled_landmarks(image, results)\n",
    "                \n",
    "#                 # NEW Apply wait logic\n",
    "#                 if frame_num == 0: \n",
    "#                     cv2.putText(image, 'STARTING COLLECTION', (120,200), \n",
    "#                                cv2.FONT_HERSHEY_SIMPLEX, 1, (0,255, 0), 4, cv2.LINE_AA)\n",
    "#                     cv2.putText(image, 'Collecting frames for {} Video Number {}'.format(action, sequence), (15,12), \n",
    "#                                cv2.FONT_HERSHEY_SIMPLEX, 0.5, (0, 0, 255), 1, cv2.LINE_AA)\n",
    "#                     # Show to screen\n",
    "#                     cv2.imshow('OpenCV Feed', image)\n",
    "#                     cv2.waitKey(1000)\n",
    "#                 else: \n",
    "#                     cv2.putText(image, 'Collecting frames for {} Video Number {}'.format(action, sequence), (15,12), \n",
    "#                                cv2.FONT_HERSHEY_SIMPLEX, 0.5, (0, 0, 255), 1, cv2.LINE_AA)\n",
    "#                     # Show to screen\n",
    "#                     cv2.imshow('OpenCV Feed', image)\n",
    "                \n",
    "#                 # NEW Export keypoints\n",
    "#                 keypoints = extract_keypoints(results)\n",
    "#                 npy_path = os.path.join(DATA_PATH, action, str(sequence), str(frame_num))\n",
    "#                 np.save(npy_path, keypoints)\n",
    "\n",
    "#                 # Break gracefully\n",
    "#                 if cv2.waitKey(10) & 0xFF == ord('q'):\n",
    "#                     break\n",
    "                    \n",
    "#     cap.release()\n",
    "#     cv2.destroyAllWindows()"
   ]
  },
  {
   "cell_type": "code",
   "execution_count": 9,
   "id": "6e3a86f0",
   "metadata": {},
   "outputs": [],
   "source": [
    "from sklearn.model_selection import train_test_split\n",
    "from tensorflow.keras.utils import to_categorical"
   ]
  },
  {
   "cell_type": "code",
   "execution_count": 10,
   "id": "1f9b20eb",
   "metadata": {
    "scrolled": true
   },
   "outputs": [],
   "source": [
    "label_map = {label:num for num, label in enumerate(actions)}"
   ]
  },
  {
   "cell_type": "code",
   "execution_count": 11,
   "id": "19e4c1f2",
   "metadata": {},
   "outputs": [
    {
     "data": {
      "text/plain": [
       "{'accident': 0,\n",
       " 'call': 1,\n",
       " 'doctor': 2,\n",
       " 'help': 3,\n",
       " 'hot': 4,\n",
       " 'lose': 5,\n",
       " 'pain': 6,\n",
       " 'thief': 7}"
      ]
     },
     "execution_count": 11,
     "metadata": {},
     "output_type": "execute_result"
    }
   ],
   "source": [
    "label_map"
   ]
  },
  {
   "cell_type": "code",
   "execution_count": 12,
   "id": "7fdb2443",
   "metadata": {},
   "outputs": [],
   "source": [
    "#Extract the numpy arrays and combine them to feed into the model \n",
    "\n",
    "sequences, labels = [], []\n",
    "for action in actions:\n",
    "    for sequence in np.array(os.listdir(os.path.join(DATA_PATH, action))).astype(int):\n",
    "        window = []\n",
    "        for frame_num in range(sequence_length):\n",
    "            res = np.load(os.path.join(DATA_PATH, action, str(sequence), \"{}.npy\".format(frame_num)))\n",
    "            window.append(res)\n",
    "        sequences.append(window)\n",
    "        labels.append(label_map[action])"
   ]
  },
  {
   "cell_type": "code",
   "execution_count": 13,
   "id": "fc8c2dc7",
   "metadata": {
    "scrolled": true
   },
   "outputs": [
    {
     "data": {
      "text/plain": [
       "(480, 30, 1662)"
      ]
     },
     "execution_count": 13,
     "metadata": {},
     "output_type": "execute_result"
    }
   ],
   "source": [
    "np.array(sequences).shape"
   ]
  },
  {
   "cell_type": "code",
   "execution_count": 14,
   "id": "cd3914c9",
   "metadata": {},
   "outputs": [
    {
     "data": {
      "text/plain": [
       "(480,)"
      ]
     },
     "execution_count": 14,
     "metadata": {},
     "output_type": "execute_result"
    }
   ],
   "source": [
    "np.array(labels).shape"
   ]
  },
  {
   "cell_type": "code",
   "execution_count": 15,
   "id": "ef4729a7",
   "metadata": {},
   "outputs": [],
   "source": [
    "X = np.array(sequences)"
   ]
  },
  {
   "cell_type": "code",
   "execution_count": 16,
   "id": "00ce3177",
   "metadata": {},
   "outputs": [
    {
     "data": {
      "text/plain": [
       "(480, 30, 1662)"
      ]
     },
     "execution_count": 16,
     "metadata": {},
     "output_type": "execute_result"
    }
   ],
   "source": [
    "X.shape"
   ]
  },
  {
   "cell_type": "code",
   "execution_count": 17,
   "id": "afbb3dea",
   "metadata": {},
   "outputs": [],
   "source": [
    "y = to_categorical(labels).astype(int)"
   ]
  },
  {
   "cell_type": "code",
   "execution_count": 18,
   "id": "b9319ef8",
   "metadata": {},
   "outputs": [],
   "source": [
    "X_train, X_test, y_train, y_test = train_test_split(X, y, test_size=0.05)"
   ]
  },
  {
   "cell_type": "code",
   "execution_count": 19,
   "id": "95729065",
   "metadata": {},
   "outputs": [
    {
     "data": {
      "text/plain": [
       "(456, 30, 1662)"
      ]
     },
     "execution_count": 19,
     "metadata": {},
     "output_type": "execute_result"
    }
   ],
   "source": [
    "X_train.shape"
   ]
  },
  {
   "cell_type": "code",
   "execution_count": 20,
   "id": "d0da0c07",
   "metadata": {},
   "outputs": [
    {
     "data": {
      "text/plain": [
       "(24, 8)"
      ]
     },
     "execution_count": 20,
     "metadata": {},
     "output_type": "execute_result"
    }
   ],
   "source": [
    "y_test.shape"
   ]
  },
  {
   "cell_type": "code",
   "execution_count": 21,
   "id": "bfb93a4b",
   "metadata": {},
   "outputs": [],
   "source": [
    "from tensorflow.keras.models import Sequential\n",
    "from tensorflow.keras.layers import LSTM, Dense\n",
    "from tensorflow.keras.callbacks import TensorBoard\n",
    "from keras.layers import LeakyReLU\n",
    "# from tensorflow.keras.layers import Bidirectional"
   ]
  },
  {
   "cell_type": "code",
   "execution_count": 22,
   "id": "dbe06b41",
   "metadata": {},
   "outputs": [],
   "source": [
    "log_dir = os.path.join('Logs')\n",
    "tb_callback = TensorBoard(log_dir=log_dir)"
   ]
  },
  {
   "cell_type": "code",
   "execution_count": 23,
   "id": "4af6ec7a",
   "metadata": {},
   "outputs": [],
   "source": [
    "#Building our LSTM model\n",
    "\n",
    "model = Sequential()\n",
    "model.add(LSTM(128, return_sequences=True, input_shape=(30,1662)))\n",
    "model.add(LeakyReLU(alpha=0.05))\n",
    "# model.add(LSTM(128, return_sequences=True))\n",
    "# model.add(LeakyReLU(alpha=0.05))\n",
    "model.add(LSTM(64, return_sequences=False))\n",
    "model.add(LeakyReLU(alpha=0.05))\n",
    "model.add(Dense(64, activation='relu'))\n",
    "model.add(Dense(32, activation='relu'))\n",
    "model.add(Dense(actions.shape[0], activation='softmax'))"
   ]
  },
  {
   "cell_type": "code",
   "execution_count": 24,
   "id": "5461af72",
   "metadata": {},
   "outputs": [],
   "source": [
    "model.compile(optimizer='Adam', loss='categorical_crossentropy', metrics=['categorical_accuracy'])"
   ]
  },
  {
   "cell_type": "code",
   "execution_count": 29,
   "id": "36787d9b",
   "metadata": {
    "scrolled": true
   },
   "outputs": [
    {
     "name": "stdout",
     "output_type": "stream",
     "text": [
      "WARNING:tensorflow:Model failed to serialize as JSON. Ignoring... Layer ModuleWrapper has arguments in `__init__` and therefore must override `get_config`.\n",
      "Epoch 1/220\n",
      "15/15 [==============================] - 9s 387ms/step - loss: 2.0790 - categorical_accuracy: 0.1447\n",
      "Epoch 2/220\n",
      "15/15 [==============================] - 2s 101ms/step - loss: 2.0457 - categorical_accuracy: 0.1776\n",
      "Epoch 3/220\n",
      "15/15 [==============================] - 1s 92ms/step - loss: 1.9628 - categorical_accuracy: 0.2171\n",
      "Epoch 4/220\n",
      "15/15 [==============================] - 1s 92ms/step - loss: 1.8324 - categorical_accuracy: 0.2522\n",
      "Epoch 5/220\n",
      "15/15 [==============================] - 1s 96ms/step - loss: 1.6990 - categorical_accuracy: 0.2632\n",
      "Epoch 6/220\n",
      "15/15 [==============================] - 2s 104ms/step - loss: 1.6250 - categorical_accuracy: 0.2697\n",
      "Epoch 7/220\n",
      "15/15 [==============================] - 2s 104ms/step - loss: 1.5898 - categorical_accuracy: 0.2610\n",
      "Epoch 8/220\n",
      "15/15 [==============================] - 2s 121ms/step - loss: 1.6130 - categorical_accuracy: 0.2895\n",
      "Epoch 9/220\n",
      "15/15 [==============================] - 2s 125ms/step - loss: 1.6095 - categorical_accuracy: 0.2719\n",
      "Epoch 10/220\n",
      "15/15 [==============================] - 2s 111ms/step - loss: 1.6457 - categorical_accuracy: 0.2895\n",
      "Epoch 11/220\n",
      "15/15 [==============================] - 2s 111ms/step - loss: 1.5972 - categorical_accuracy: 0.2851\n",
      "Epoch 12/220\n",
      "15/15 [==============================] - 2s 107ms/step - loss: 1.5049 - categorical_accuracy: 0.3136\n",
      "Epoch 13/220\n",
      "15/15 [==============================] - 2s 109ms/step - loss: 1.4495 - categorical_accuracy: 0.3553\n",
      "Epoch 14/220\n",
      "15/15 [==============================] - 2s 110ms/step - loss: 1.4006 - categorical_accuracy: 0.4211\n",
      "Epoch 15/220\n",
      "15/15 [==============================] - 2s 118ms/step - loss: 1.3696 - categorical_accuracy: 0.4189\n",
      "Epoch 16/220\n",
      "15/15 [==============================] - 2s 122ms/step - loss: 1.3350 - categorical_accuracy: 0.4189\n",
      "Epoch 17/220\n",
      "15/15 [==============================] - 2s 115ms/step - loss: 1.3717 - categorical_accuracy: 0.4276\n",
      "Epoch 18/220\n",
      "15/15 [==============================] - 2s 120ms/step - loss: 1.3606 - categorical_accuracy: 0.4539\n",
      "Epoch 19/220\n",
      "15/15 [==============================] - 2s 113ms/step - loss: 1.4950 - categorical_accuracy: 0.3728\n",
      "Epoch 20/220\n",
      "15/15 [==============================] - 2s 107ms/step - loss: 1.4490 - categorical_accuracy: 0.3399\n",
      "Epoch 21/220\n",
      "15/15 [==============================] - 2s 115ms/step - loss: 1.3217 - categorical_accuracy: 0.4386\n",
      "Epoch 22/220\n",
      "15/15 [==============================] - 2s 112ms/step - loss: 1.2474 - categorical_accuracy: 0.5088\n",
      "Epoch 23/220\n",
      "15/15 [==============================] - 2s 112ms/step - loss: 1.2149 - categorical_accuracy: 0.4715\n",
      "Epoch 24/220\n",
      "15/15 [==============================] - 2s 109ms/step - loss: 1.1985 - categorical_accuracy: 0.4846\n",
      "Epoch 25/220\n",
      "15/15 [==============================] - 2s 107ms/step - loss: 1.1361 - categorical_accuracy: 0.5263\n",
      "Epoch 26/220\n",
      "15/15 [==============================] - 2s 107ms/step - loss: 1.1257 - categorical_accuracy: 0.5395\n",
      "Epoch 27/220\n",
      "15/15 [==============================] - 2s 107ms/step - loss: 1.0971 - categorical_accuracy: 0.5461\n",
      "Epoch 28/220\n",
      "15/15 [==============================] - 2s 107ms/step - loss: 1.0930 - categorical_accuracy: 0.5570\n",
      "Epoch 29/220\n",
      "15/15 [==============================] - 2s 108ms/step - loss: 1.0679 - categorical_accuracy: 0.5395\n",
      "Epoch 30/220\n",
      "15/15 [==============================] - 2s 107ms/step - loss: 1.1454 - categorical_accuracy: 0.5175\n",
      "Epoch 31/220\n",
      "15/15 [==============================] - 2s 106ms/step - loss: 1.4699 - categorical_accuracy: 0.4298\n",
      "Epoch 32/220\n",
      "15/15 [==============================] - 2s 105ms/step - loss: 1.1909 - categorical_accuracy: 0.4890\n",
      "Epoch 33/220\n",
      "15/15 [==============================] - 2s 106ms/step - loss: 1.1536 - categorical_accuracy: 0.5132\n",
      "Epoch 34/220\n",
      "15/15 [==============================] - 2s 107ms/step - loss: 1.0324 - categorical_accuracy: 0.5833\n",
      "Epoch 35/220\n",
      "15/15 [==============================] - 2s 107ms/step - loss: 0.9631 - categorical_accuracy: 0.6096\n",
      "Epoch 36/220\n",
      "15/15 [==============================] - 2s 109ms/step - loss: 1.0975 - categorical_accuracy: 0.5504\n",
      "Epoch 37/220\n",
      "15/15 [==============================] - 2s 107ms/step - loss: 1.1597 - categorical_accuracy: 0.5263\n",
      "Epoch 38/220\n",
      "15/15 [==============================] - 2s 107ms/step - loss: 1.0160 - categorical_accuracy: 0.5943\n",
      "Epoch 39/220\n",
      "15/15 [==============================] - 2s 106ms/step - loss: 0.8862 - categorical_accuracy: 0.6469\n",
      "Epoch 40/220\n",
      "15/15 [==============================] - 2s 107ms/step - loss: 0.8862 - categorical_accuracy: 0.6491\n",
      "Epoch 41/220\n",
      "15/15 [==============================] - 2s 107ms/step - loss: 0.9463 - categorical_accuracy: 0.6294\n",
      "Epoch 42/220\n",
      "15/15 [==============================] - 2s 106ms/step - loss: 0.8536 - categorical_accuracy: 0.6425\n",
      "Epoch 43/220\n",
      "15/15 [==============================] - 2s 106ms/step - loss: 0.8471 - categorical_accuracy: 0.6447\n",
      "Epoch 44/220\n",
      "15/15 [==============================] - 2s 107ms/step - loss: 0.7397 - categorical_accuracy: 0.7018\n",
      "Epoch 45/220\n",
      "15/15 [==============================] - 2s 106ms/step - loss: 0.8306 - categorical_accuracy: 0.6667\n",
      "Epoch 46/220\n",
      "15/15 [==============================] - 2s 107ms/step - loss: 0.7608 - categorical_accuracy: 0.6864\n",
      "Epoch 47/220\n",
      "15/15 [==============================] - 2s 107ms/step - loss: 0.8255 - categorical_accuracy: 0.6491\n",
      "Epoch 48/220\n",
      "15/15 [==============================] - 2s 106ms/step - loss: 0.7855 - categorical_accuracy: 0.6754\n",
      "Epoch 49/220\n",
      "15/15 [==============================] - 2s 106ms/step - loss: 0.7657 - categorical_accuracy: 0.6776\n",
      "Epoch 50/220\n",
      "15/15 [==============================] - 2s 107ms/step - loss: 0.8005 - categorical_accuracy: 0.6579\n",
      "Epoch 51/220\n",
      "15/15 [==============================] - 2s 105ms/step - loss: 0.7591 - categorical_accuracy: 0.6798\n",
      "Epoch 52/220\n",
      "15/15 [==============================] - 2s 106ms/step - loss: 0.7249 - categorical_accuracy: 0.7149\n",
      "Epoch 53/220\n",
      "15/15 [==============================] - 2s 108ms/step - loss: 0.6977 - categorical_accuracy: 0.7237\n",
      "Epoch 54/220\n",
      "15/15 [==============================] - 2s 107ms/step - loss: 0.6568 - categorical_accuracy: 0.7215\n",
      "Epoch 55/220\n",
      "15/15 [==============================] - 2s 107ms/step - loss: 0.6295 - categorical_accuracy: 0.7544\n",
      "Epoch 56/220\n",
      "15/15 [==============================] - 2s 107ms/step - loss: 0.6483 - categorical_accuracy: 0.7193\n",
      "Epoch 57/220\n",
      "15/15 [==============================] - 2s 106ms/step - loss: 0.6588 - categorical_accuracy: 0.7434\n",
      "Epoch 58/220\n",
      "15/15 [==============================] - 2s 107ms/step - loss: 0.6173 - categorical_accuracy: 0.7500\n",
      "Epoch 59/220\n",
      "15/15 [==============================] - 2s 108ms/step - loss: 0.6249 - categorical_accuracy: 0.7368\n",
      "Epoch 60/220\n",
      "15/15 [==============================] - 2s 107ms/step - loss: 0.6026 - categorical_accuracy: 0.7522\n",
      "Epoch 61/220\n",
      "15/15 [==============================] - 2s 107ms/step - loss: 0.6005 - categorical_accuracy: 0.7588\n",
      "Epoch 62/220\n",
      "15/15 [==============================] - 2s 107ms/step - loss: 0.6551 - categorical_accuracy: 0.7346\n",
      "Epoch 63/220\n",
      "15/15 [==============================] - 2s 107ms/step - loss: 0.5871 - categorical_accuracy: 0.7610\n",
      "Epoch 64/220\n",
      "15/15 [==============================] - 2s 107ms/step - loss: 0.6441 - categorical_accuracy: 0.7303\n",
      "Epoch 65/220\n",
      "15/15 [==============================] - 2s 107ms/step - loss: 0.5285 - categorical_accuracy: 0.7632\n",
      "Epoch 66/220\n",
      "15/15 [==============================] - 2s 105ms/step - loss: 0.5381 - categorical_accuracy: 0.7719\n",
      "Epoch 67/220\n",
      "15/15 [==============================] - 2s 106ms/step - loss: 0.5447 - categorical_accuracy: 0.7763\n",
      "Epoch 68/220\n",
      "15/15 [==============================] - 2s 107ms/step - loss: 0.6545 - categorical_accuracy: 0.7346\n",
      "Epoch 69/220\n",
      "15/15 [==============================] - 2s 106ms/step - loss: 0.5858 - categorical_accuracy: 0.7566\n",
      "Epoch 70/220\n",
      "15/15 [==============================] - 2s 107ms/step - loss: 0.4568 - categorical_accuracy: 0.8333\n",
      "Epoch 71/220\n"
     ]
    },
    {
     "name": "stdout",
     "output_type": "stream",
     "text": [
      "15/15 [==============================] - 2s 105ms/step - loss: 0.5113 - categorical_accuracy: 0.8202\n",
      "Epoch 72/220\n",
      "15/15 [==============================] - 2s 107ms/step - loss: 0.7333 - categorical_accuracy: 0.7259\n",
      "Epoch 73/220\n",
      "15/15 [==============================] - 2s 105ms/step - loss: 0.5237 - categorical_accuracy: 0.8004\n",
      "Epoch 74/220\n",
      "15/15 [==============================] - 2s 105ms/step - loss: 0.4534 - categorical_accuracy: 0.8070\n",
      "Epoch 75/220\n",
      "15/15 [==============================] - 2s 119ms/step - loss: 0.5720 - categorical_accuracy: 0.7719\n",
      "Epoch 76/220\n",
      "15/15 [==============================] - 2s 117ms/step - loss: 0.5302 - categorical_accuracy: 0.7895\n",
      "Epoch 77/220\n",
      "15/15 [==============================] - 2s 109ms/step - loss: 0.4903 - categorical_accuracy: 0.7917\n",
      "Epoch 78/220\n",
      "15/15 [==============================] - 2s 107ms/step - loss: 0.4554 - categorical_accuracy: 0.8048\n",
      "Epoch 79/220\n",
      "15/15 [==============================] - 2s 113ms/step - loss: 0.3772 - categorical_accuracy: 0.8509\n",
      "Epoch 80/220\n",
      "15/15 [==============================] - 2s 110ms/step - loss: 0.4398 - categorical_accuracy: 0.8246\n",
      "Epoch 81/220\n",
      "15/15 [==============================] - 2s 106ms/step - loss: 0.4191 - categorical_accuracy: 0.8355\n",
      "Epoch 82/220\n",
      "15/15 [==============================] - 2s 107ms/step - loss: 0.3512 - categorical_accuracy: 0.8882\n",
      "Epoch 83/220\n",
      "15/15 [==============================] - 2s 107ms/step - loss: 0.3355 - categorical_accuracy: 0.8772\n",
      "Epoch 84/220\n",
      "15/15 [==============================] - 2s 108ms/step - loss: 0.3329 - categorical_accuracy: 0.8794\n",
      "Epoch 85/220\n",
      "15/15 [==============================] - 2s 106ms/step - loss: 0.3978 - categorical_accuracy: 0.8355\n",
      "Epoch 86/220\n",
      "15/15 [==============================] - 2s 107ms/step - loss: 0.3303 - categorical_accuracy: 0.8750\n",
      "Epoch 87/220\n",
      "15/15 [==============================] - 2s 108ms/step - loss: 0.3231 - categorical_accuracy: 0.8838\n",
      "Epoch 88/220\n",
      "15/15 [==============================] - 2s 107ms/step - loss: 0.3834 - categorical_accuracy: 0.8553\n",
      "Epoch 89/220\n",
      "15/15 [==============================] - 2s 108ms/step - loss: 0.4895 - categorical_accuracy: 0.8268\n",
      "Epoch 90/220\n",
      "15/15 [==============================] - 2s 106ms/step - loss: 0.3314 - categorical_accuracy: 0.8860\n",
      "Epoch 91/220\n",
      "15/15 [==============================] - 2s 106ms/step - loss: 0.3293 - categorical_accuracy: 0.8772\n",
      "Epoch 92/220\n",
      "15/15 [==============================] - 2s 106ms/step - loss: 0.5123 - categorical_accuracy: 0.8004\n",
      "Epoch 93/220\n",
      "15/15 [==============================] - 2s 107ms/step - loss: 0.3540 - categorical_accuracy: 0.8706\n",
      "Epoch 94/220\n",
      "15/15 [==============================] - 2s 107ms/step - loss: 0.3368 - categorical_accuracy: 0.8728\n",
      "Epoch 95/220\n",
      "15/15 [==============================] - 2s 108ms/step - loss: 0.2824 - categorical_accuracy: 0.9101\n",
      "Epoch 96/220\n",
      "15/15 [==============================] - 2s 106ms/step - loss: 0.3517 - categorical_accuracy: 0.8684\n",
      "Epoch 97/220\n",
      "15/15 [==============================] - 2s 107ms/step - loss: 0.3279 - categorical_accuracy: 0.8728\n",
      "Epoch 98/220\n",
      "15/15 [==============================] - 2s 106ms/step - loss: 0.3926 - categorical_accuracy: 0.8553\n",
      "Epoch 99/220\n",
      "15/15 [==============================] - 2s 107ms/step - loss: 0.3653 - categorical_accuracy: 0.8596\n",
      "Epoch 100/220\n",
      "15/15 [==============================] - 2s 107ms/step - loss: 0.5275 - categorical_accuracy: 0.7895\n",
      "Epoch 101/220\n",
      "15/15 [==============================] - 2s 107ms/step - loss: 0.3404 - categorical_accuracy: 0.8772\n",
      "Epoch 102/220\n",
      "15/15 [==============================] - 2s 107ms/step - loss: 0.2669 - categorical_accuracy: 0.9101\n",
      "Epoch 103/220\n",
      "15/15 [==============================] - 2s 111ms/step - loss: 0.3974 - categorical_accuracy: 0.8618\n",
      "Epoch 104/220\n",
      "15/15 [==============================] - 2s 112ms/step - loss: 0.2928 - categorical_accuracy: 0.8947\n",
      "Epoch 105/220\n",
      "15/15 [==============================] - 2s 119ms/step - loss: 0.2828 - categorical_accuracy: 0.8882\n",
      "Epoch 106/220\n",
      "15/15 [==============================] - 2s 110ms/step - loss: 0.2655 - categorical_accuracy: 0.9057\n",
      "Epoch 107/220\n",
      "15/15 [==============================] - 2s 113ms/step - loss: 0.2508 - categorical_accuracy: 0.9101\n",
      "Epoch 108/220\n",
      "15/15 [==============================] - 2s 125ms/step - loss: 0.3276 - categorical_accuracy: 0.8684\n",
      "Epoch 109/220\n",
      "15/15 [==============================] - 2s 134ms/step - loss: 0.2915 - categorical_accuracy: 0.8947\n",
      "Epoch 110/220\n",
      "15/15 [==============================] - 2s 136ms/step - loss: 0.2276 - categorical_accuracy: 0.9189\n",
      "Epoch 111/220\n",
      "15/15 [==============================] - 2s 138ms/step - loss: 0.2661 - categorical_accuracy: 0.9145\n",
      "Epoch 112/220\n",
      "15/15 [==============================] - 2s 132ms/step - loss: 0.3029 - categorical_accuracy: 0.8904\n",
      "Epoch 113/220\n",
      "15/15 [==============================] - 2s 132ms/step - loss: 0.2159 - categorical_accuracy: 0.9298\n",
      "Epoch 114/220\n",
      "15/15 [==============================] - 2s 123ms/step - loss: 0.2356 - categorical_accuracy: 0.9232\n",
      "Epoch 115/220\n",
      "15/15 [==============================] - 2s 119ms/step - loss: 0.3264 - categorical_accuracy: 0.8750\n",
      "Epoch 116/220\n",
      "15/15 [==============================] - 2s 119ms/step - loss: 0.3566 - categorical_accuracy: 0.8553\n",
      "Epoch 117/220\n",
      "15/15 [==============================] - 2s 120ms/step - loss: 0.2810 - categorical_accuracy: 0.8969\n",
      "Epoch 118/220\n",
      "15/15 [==============================] - 2s 115ms/step - loss: 0.3820 - categorical_accuracy: 0.8640\n",
      "Epoch 119/220\n",
      "15/15 [==============================] - 2s 123ms/step - loss: 0.3800 - categorical_accuracy: 0.8662\n",
      "Epoch 120/220\n",
      "15/15 [==============================] - 2s 131ms/step - loss: 0.2781 - categorical_accuracy: 0.8925\n",
      "Epoch 121/220\n",
      "15/15 [==============================] - 2s 120ms/step - loss: 0.2838 - categorical_accuracy: 0.8991\n",
      "Epoch 122/220\n",
      "15/15 [==============================] - 2s 122ms/step - loss: 0.2340 - categorical_accuracy: 0.9211\n",
      "Epoch 123/220\n",
      "15/15 [==============================] - 2s 120ms/step - loss: 0.2052 - categorical_accuracy: 0.9254\n",
      "Epoch 124/220\n",
      "15/15 [==============================] - 2s 122ms/step - loss: 0.1652 - categorical_accuracy: 0.9496\n",
      "Epoch 125/220\n",
      "15/15 [==============================] - 2s 123ms/step - loss: 0.1728 - categorical_accuracy: 0.9430\n",
      "Epoch 126/220\n",
      "15/15 [==============================] - 2s 117ms/step - loss: 0.1594 - categorical_accuracy: 0.9430\n",
      "Epoch 127/220\n",
      "15/15 [==============================] - 2s 117ms/step - loss: 0.2221 - categorical_accuracy: 0.9232\n",
      "Epoch 128/220\n",
      "15/15 [==============================] - 2s 132ms/step - loss: 0.3484 - categorical_accuracy: 0.8706\n",
      "Epoch 129/220\n",
      "15/15 [==============================] - 2s 125ms/step - loss: 0.4127 - categorical_accuracy: 0.8487\n",
      "Epoch 130/220\n",
      "15/15 [==============================] - 2s 119ms/step - loss: 0.1929 - categorical_accuracy: 0.9189\n",
      "Epoch 131/220\n",
      "15/15 [==============================] - 2s 119ms/step - loss: 0.1766 - categorical_accuracy: 0.9320\n",
      "Epoch 132/220\n",
      "15/15 [==============================] - 2s 117ms/step - loss: 0.1837 - categorical_accuracy: 0.9276\n",
      "Epoch 133/220\n",
      "15/15 [==============================] - 2s 121ms/step - loss: 0.1897 - categorical_accuracy: 0.9167\n",
      "Epoch 134/220\n",
      "15/15 [==============================] - 2s 119ms/step - loss: 0.3813 - categorical_accuracy: 0.8662\n",
      "Epoch 135/220\n",
      "15/15 [==============================] - 2s 118ms/step - loss: 0.3835 - categorical_accuracy: 0.8640\n",
      "Epoch 136/220\n",
      "15/15 [==============================] - 2s 120ms/step - loss: 0.2647 - categorical_accuracy: 0.9211\n",
      "Epoch 137/220\n",
      "15/15 [==============================] - 2s 122ms/step - loss: 0.2380 - categorical_accuracy: 0.9145\n",
      "Epoch 138/220\n",
      "15/15 [==============================] - 2s 120ms/step - loss: 0.2397 - categorical_accuracy: 0.9145\n",
      "Epoch 139/220\n",
      "15/15 [==============================] - 2s 120ms/step - loss: 0.1699 - categorical_accuracy: 0.9430\n",
      "Epoch 140/220\n",
      "15/15 [==============================] - 2s 128ms/step - loss: 0.1365 - categorical_accuracy: 0.9605\n",
      "Epoch 141/220\n",
      "15/15 [==============================] - 2s 120ms/step - loss: 0.1509 - categorical_accuracy: 0.9430\n",
      "Epoch 142/220\n"
     ]
    },
    {
     "name": "stdout",
     "output_type": "stream",
     "text": [
      "15/15 [==============================] - 2s 117ms/step - loss: 0.1156 - categorical_accuracy: 0.9649\n",
      "Epoch 143/220\n",
      "15/15 [==============================] - 2s 117ms/step - loss: 0.1235 - categorical_accuracy: 0.9539\n",
      "Epoch 144/220\n",
      "15/15 [==============================] - 2s 116ms/step - loss: 0.0980 - categorical_accuracy: 0.9649\n",
      "Epoch 145/220\n",
      "15/15 [==============================] - 2s 127ms/step - loss: 0.0941 - categorical_accuracy: 0.9759\n",
      "Epoch 146/220\n",
      "15/15 [==============================] - 2s 135ms/step - loss: 0.1082 - categorical_accuracy: 0.9561\n",
      "Epoch 147/220\n",
      "15/15 [==============================] - 2s 117ms/step - loss: 0.1586 - categorical_accuracy: 0.9452\n",
      "Epoch 148/220\n",
      "15/15 [==============================] - 2s 124ms/step - loss: 0.1175 - categorical_accuracy: 0.9649\n",
      "Epoch 149/220\n",
      "15/15 [==============================] - 2s 130ms/step - loss: 0.1391 - categorical_accuracy: 0.9518\n",
      "Epoch 150/220\n",
      "15/15 [==============================] - 2s 120ms/step - loss: 0.2694 - categorical_accuracy: 0.9167\n",
      "Epoch 151/220\n",
      "15/15 [==============================] - 2s 118ms/step - loss: 0.3305 - categorical_accuracy: 0.8904\n",
      "Epoch 152/220\n",
      "15/15 [==============================] - 2s 116ms/step - loss: 0.2384 - categorical_accuracy: 0.9211\n",
      "Epoch 153/220\n",
      "15/15 [==============================] - 2s 120ms/step - loss: 0.1688 - categorical_accuracy: 0.9386\n",
      "Epoch 154/220\n",
      "15/15 [==============================] - 2s 122ms/step - loss: 0.1918 - categorical_accuracy: 0.9189\n",
      "Epoch 155/220\n",
      "15/15 [==============================] - 2s 123ms/step - loss: 0.1043 - categorical_accuracy: 0.9693\n",
      "Epoch 156/220\n",
      "15/15 [==============================] - 2s 122ms/step - loss: 0.1039 - categorical_accuracy: 0.9715\n",
      "Epoch 157/220\n",
      "15/15 [==============================] - 2s 123ms/step - loss: 0.0831 - categorical_accuracy: 0.9781\n",
      "Epoch 158/220\n",
      "15/15 [==============================] - 2s 120ms/step - loss: 0.0893 - categorical_accuracy: 0.9715\n",
      "Epoch 159/220\n",
      "15/15 [==============================] - 2s 122ms/step - loss: 0.1203 - categorical_accuracy: 0.9583\n",
      "Epoch 160/220\n",
      "15/15 [==============================] - 2s 120ms/step - loss: 0.1132 - categorical_accuracy: 0.9605\n",
      "Epoch 161/220\n",
      "15/15 [==============================] - 2s 119ms/step - loss: 0.1039 - categorical_accuracy: 0.9759\n",
      "Epoch 162/220\n",
      "15/15 [==============================] - 2s 118ms/step - loss: 0.0767 - categorical_accuracy: 0.9781\n",
      "Epoch 163/220\n",
      "15/15 [==============================] - 2s 121ms/step - loss: 0.0962 - categorical_accuracy: 0.9561\n",
      "Epoch 164/220\n",
      "15/15 [==============================] - 2s 118ms/step - loss: 0.0829 - categorical_accuracy: 0.9781\n",
      "Epoch 165/220\n",
      "15/15 [==============================] - 2s 119ms/step - loss: 0.0693 - categorical_accuracy: 0.9803\n",
      "Epoch 166/220\n",
      "15/15 [==============================] - 2s 119ms/step - loss: 0.0620 - categorical_accuracy: 0.9781\n",
      "Epoch 167/220\n",
      "15/15 [==============================] - 2s 118ms/step - loss: 0.0575 - categorical_accuracy: 0.9825\n",
      "Epoch 168/220\n",
      "15/15 [==============================] - 2s 119ms/step - loss: 0.0634 - categorical_accuracy: 0.9759\n",
      "Epoch 169/220\n",
      "15/15 [==============================] - 2s 122ms/step - loss: 0.0770 - categorical_accuracy: 0.9693\n",
      "Epoch 170/220\n",
      "15/15 [==============================] - 2s 128ms/step - loss: 0.1026 - categorical_accuracy: 0.9649\n",
      "Epoch 171/220\n",
      "15/15 [==============================] - 2s 129ms/step - loss: 0.1565 - categorical_accuracy: 0.9452\n",
      "Epoch 172/220\n",
      "15/15 [==============================] - 2s 123ms/step - loss: 0.1938 - categorical_accuracy: 0.9364\n",
      "Epoch 173/220\n",
      "15/15 [==============================] - 2s 121ms/step - loss: 0.1506 - categorical_accuracy: 0.9627\n",
      "Epoch 174/220\n",
      "15/15 [==============================] - 2s 123ms/step - loss: 0.2585 - categorical_accuracy: 0.9101\n",
      "Epoch 175/220\n",
      "15/15 [==============================] - 2s 123ms/step - loss: 0.5517 - categorical_accuracy: 0.8180\n",
      "Epoch 176/220\n",
      "15/15 [==============================] - 2s 119ms/step - loss: 0.9544 - categorical_accuracy: 0.7412\n",
      "Epoch 177/220\n",
      "15/15 [==============================] - 2s 123ms/step - loss: 0.8172 - categorical_accuracy: 0.7171\n",
      "Epoch 178/220\n",
      "15/15 [==============================] - 2s 121ms/step - loss: 0.3827 - categorical_accuracy: 0.8728\n",
      "Epoch 179/220\n",
      "15/15 [==============================] - 2s 123ms/step - loss: 0.1909 - categorical_accuracy: 0.9452\n",
      "Epoch 180/220\n",
      "15/15 [==============================] - 2s 121ms/step - loss: 0.1200 - categorical_accuracy: 0.9737\n",
      "Epoch 181/220\n",
      "15/15 [==============================] - 2s 122ms/step - loss: 0.0835 - categorical_accuracy: 0.9890\n",
      "Epoch 182/220\n",
      "15/15 [==============================] - 2s 122ms/step - loss: 0.0842 - categorical_accuracy: 0.9759\n",
      "Epoch 183/220\n",
      "15/15 [==============================] - 2s 121ms/step - loss: 0.0599 - categorical_accuracy: 0.9890\n",
      "Epoch 184/220\n",
      "15/15 [==============================] - 2s 125ms/step - loss: 0.0766 - categorical_accuracy: 0.9759\n",
      "Epoch 185/220\n",
      "15/15 [==============================] - 2s 120ms/step - loss: 0.0594 - categorical_accuracy: 0.9846\n",
      "Epoch 186/220\n",
      "15/15 [==============================] - 2s 124ms/step - loss: 0.1325 - categorical_accuracy: 0.9518\n",
      "Epoch 187/220\n",
      "15/15 [==============================] - 2s 120ms/step - loss: 0.1957 - categorical_accuracy: 0.9320\n",
      "Epoch 188/220\n",
      "15/15 [==============================] - 2s 121ms/step - loss: 0.1854 - categorical_accuracy: 0.9342\n",
      "Epoch 189/220\n",
      "15/15 [==============================] - 2s 122ms/step - loss: 0.1575 - categorical_accuracy: 0.9474\n",
      "Epoch 190/220\n",
      "15/15 [==============================] - 2s 128ms/step - loss: 0.1010 - categorical_accuracy: 0.9583\n",
      "Epoch 191/220\n",
      "15/15 [==============================] - 2s 138ms/step - loss: 0.0758 - categorical_accuracy: 0.9737\n",
      "Epoch 192/220\n",
      "15/15 [==============================] - 2s 125ms/step - loss: 0.0670 - categorical_accuracy: 0.9781\n",
      "Epoch 193/220\n",
      "15/15 [==============================] - 2s 121ms/step - loss: 0.0619 - categorical_accuracy: 0.9759\n",
      "Epoch 194/220\n",
      "15/15 [==============================] - 2s 132ms/step - loss: 0.0399 - categorical_accuracy: 0.9912\n",
      "Epoch 195/220\n",
      "15/15 [==============================] - 2s 131ms/step - loss: 0.0705 - categorical_accuracy: 0.9759\n",
      "Epoch 196/220\n",
      "15/15 [==============================] - 2s 133ms/step - loss: 0.0808 - categorical_accuracy: 0.9759\n",
      "Epoch 197/220\n",
      "15/15 [==============================] - 2s 128ms/step - loss: 0.1924 - categorical_accuracy: 0.9430\n",
      "Epoch 198/220\n",
      "15/15 [==============================] - 2s 125ms/step - loss: 0.1835 - categorical_accuracy: 0.9298\n",
      "Epoch 199/220\n",
      "15/15 [==============================] - 2s 119ms/step - loss: 0.2364 - categorical_accuracy: 0.9254\n",
      "Epoch 200/220\n",
      "15/15 [==============================] - 2s 120ms/step - loss: 0.2246 - categorical_accuracy: 0.9276\n",
      "Epoch 201/220\n",
      "15/15 [==============================] - 2s 119ms/step - loss: 0.1446 - categorical_accuracy: 0.9496\n",
      "Epoch 202/220\n",
      "15/15 [==============================] - 2s 119ms/step - loss: 0.1643 - categorical_accuracy: 0.9386\n",
      "Epoch 203/220\n",
      "15/15 [==============================] - 2s 119ms/step - loss: 0.1080 - categorical_accuracy: 0.9605\n",
      "Epoch 204/220\n",
      "15/15 [==============================] - 2s 119ms/step - loss: 0.0718 - categorical_accuracy: 0.9825\n",
      "Epoch 205/220\n",
      "15/15 [==============================] - 2s 121ms/step - loss: 0.0842 - categorical_accuracy: 0.9627\n",
      "Epoch 206/220\n",
      "15/15 [==============================] - 2s 119ms/step - loss: 0.0675 - categorical_accuracy: 0.9803\n",
      "Epoch 207/220\n",
      "15/15 [==============================] - 2s 119ms/step - loss: 0.0686 - categorical_accuracy: 0.9737\n",
      "Epoch 208/220\n",
      "15/15 [==============================] - 2s 134ms/step - loss: 0.0586 - categorical_accuracy: 0.9846\n",
      "Epoch 209/220\n",
      "15/15 [==============================] - 2s 129ms/step - loss: 0.0434 - categorical_accuracy: 0.9846\n",
      "Epoch 210/220\n",
      "15/15 [==============================] - 2s 125ms/step - loss: 0.0543 - categorical_accuracy: 0.9825\n",
      "Epoch 211/220\n",
      "15/15 [==============================] - 2s 121ms/step - loss: 0.0520 - categorical_accuracy: 0.9803\n",
      "Epoch 212/220\n",
      "15/15 [==============================] - 2s 124ms/step - loss: 0.0395 - categorical_accuracy: 0.9890\n",
      "Epoch 213/220\n"
     ]
    },
    {
     "name": "stdout",
     "output_type": "stream",
     "text": [
      "15/15 [==============================] - 2s 120ms/step - loss: 0.0277 - categorical_accuracy: 0.9934\n",
      "Epoch 214/220\n",
      "15/15 [==============================] - 2s 119ms/step - loss: 0.0295 - categorical_accuracy: 0.9912\n",
      "Epoch 215/220\n",
      "15/15 [==============================] - 2s 119ms/step - loss: 0.0228 - categorical_accuracy: 0.9934\n",
      "Epoch 216/220\n",
      "15/15 [==============================] - 2s 120ms/step - loss: 0.0194 - categorical_accuracy: 0.9934\n",
      "Epoch 217/220\n",
      "15/15 [==============================] - 2s 129ms/step - loss: 0.0179 - categorical_accuracy: 0.9934\n",
      "Epoch 218/220\n",
      "15/15 [==============================] - 2s 134ms/step - loss: 0.0178 - categorical_accuracy: 0.9934\n",
      "Epoch 219/220\n",
      "15/15 [==============================] - 2s 135ms/step - loss: 0.0172 - categorical_accuracy: 0.9956\n",
      "Epoch 220/220\n",
      "15/15 [==============================] - 2s 121ms/step - loss: 0.0176 - categorical_accuracy: 0.9956\n"
     ]
    },
    {
     "data": {
      "text/plain": [
       "<tensorflow.python.keras.callbacks.History at 0x23ca6c3ff70>"
      ]
     },
     "execution_count": 29,
     "metadata": {},
     "output_type": "execute_result"
    }
   ],
   "source": [
    "model.fit(X_train, y_train, epochs=220, callbacks=[tb_callback])"
   ]
  },
  {
   "cell_type": "code",
   "execution_count": 25,
   "id": "9cc2113f",
   "metadata": {
    "scrolled": true
   },
   "outputs": [
    {
     "name": "stdout",
     "output_type": "stream",
     "text": [
      "Model: \"sequential\"\n",
      "_________________________________________________________________\n",
      "Layer (type)                 Output Shape              Param #   \n",
      "=================================================================\n",
      "lstm (LSTM)                  (None, 30, 128)           916992    \n",
      "_________________________________________________________________\n",
      "module_wrapper (ModuleWrappe (None, 30, 128)           0         \n",
      "_________________________________________________________________\n",
      "lstm_1 (LSTM)                (None, 64)                49408     \n",
      "_________________________________________________________________\n",
      "module_wrapper_1 (ModuleWrap (None, 64)                0         \n",
      "_________________________________________________________________\n",
      "dense (Dense)                (None, 64)                4160      \n",
      "_________________________________________________________________\n",
      "dense_1 (Dense)              (None, 32)                2080      \n",
      "_________________________________________________________________\n",
      "dense_2 (Dense)              (None, 8)                 264       \n",
      "=================================================================\n",
      "Total params: 972,904\n",
      "Trainable params: 972,904\n",
      "Non-trainable params: 0\n",
      "_________________________________________________________________\n"
     ]
    }
   ],
   "source": [
    "model.summary()"
   ]
  },
  {
   "cell_type": "code",
   "execution_count": 30,
   "id": "9c9c22c4",
   "metadata": {},
   "outputs": [],
   "source": [
    "res = model.predict(X_test)"
   ]
  },
  {
   "cell_type": "code",
   "execution_count": 31,
   "id": "9d3d6180",
   "metadata": {},
   "outputs": [
    {
     "data": {
      "text/plain": [
       "'thief'"
      ]
     },
     "execution_count": 31,
     "metadata": {},
     "output_type": "execute_result"
    }
   ],
   "source": [
    "actions[np.argmax(res[3])]"
   ]
  },
  {
   "cell_type": "code",
   "execution_count": 32,
   "id": "1b48d939",
   "metadata": {},
   "outputs": [
    {
     "data": {
      "text/plain": [
       "'thief'"
      ]
     },
     "execution_count": 32,
     "metadata": {},
     "output_type": "execute_result"
    }
   ],
   "source": [
    "actions[np.argmax(y_test[3])]"
   ]
  },
  {
   "cell_type": "code",
   "execution_count": 33,
   "id": "c865b23e",
   "metadata": {},
   "outputs": [],
   "source": [
    "from sklearn.metrics import multilabel_confusion_matrix, accuracy_score"
   ]
  },
  {
   "cell_type": "code",
   "execution_count": 34,
   "id": "f889d5eb",
   "metadata": {},
   "outputs": [],
   "source": [
    "y_pred = model.predict(X_test)"
   ]
  },
  {
   "cell_type": "code",
   "execution_count": 35,
   "id": "9fafd051",
   "metadata": {},
   "outputs": [],
   "source": [
    "y_pred_train = model.predict(X_train)"
   ]
  },
  {
   "cell_type": "code",
   "execution_count": 36,
   "id": "947baed5",
   "metadata": {},
   "outputs": [],
   "source": [
    "y_true = np.argmax(y_test, axis=1).tolist()\n",
    "y_pred = np.argmax(y_pred, axis=1).tolist()"
   ]
  },
  {
   "cell_type": "code",
   "execution_count": 37,
   "id": "92bfe0ea",
   "metadata": {},
   "outputs": [],
   "source": [
    "y_true_train = np.argmax(y_train, axis=1).tolist()\n",
    "y_pred_train = np.argmax(y_pred_train, axis=1).tolist()"
   ]
  },
  {
   "cell_type": "code",
   "execution_count": 38,
   "id": "18967797",
   "metadata": {},
   "outputs": [
    {
     "data": {
      "text/plain": [
       "array([2, 5, 5, 7, 2, 2, 5, 3, 1, 3, 0, 3, 6, 7, 3, 5, 4, 2, 6, 1, 2, 2,\n",
       "       5, 0])"
      ]
     },
     "execution_count": 38,
     "metadata": {},
     "output_type": "execute_result"
    }
   ],
   "source": [
    "np.array(y_pred)"
   ]
  },
  {
   "cell_type": "code",
   "execution_count": 39,
   "id": "8a7d79f2",
   "metadata": {},
   "outputs": [
    {
     "data": {
      "text/plain": [
       "array([3, 5, 5, 7, 2, 3, 5, 3, 6, 3, 0, 3, 6, 7, 3, 5, 4, 2, 1, 1, 2, 3,\n",
       "       5, 0])"
      ]
     },
     "execution_count": 39,
     "metadata": {},
     "output_type": "execute_result"
    }
   ],
   "source": [
    "np.array(y_true)"
   ]
  },
  {
   "cell_type": "code",
   "execution_count": 40,
   "id": "4473fc01",
   "metadata": {},
   "outputs": [
    {
     "data": {
      "text/plain": [
       "array([[[22,  0],\n",
       "        [ 0,  2]],\n",
       "\n",
       "       [[21,  1],\n",
       "        [ 1,  1]],\n",
       "\n",
       "       [[18,  3],\n",
       "        [ 0,  3]],\n",
       "\n",
       "       [[17,  0],\n",
       "        [ 3,  4]],\n",
       "\n",
       "       [[23,  0],\n",
       "        [ 0,  1]],\n",
       "\n",
       "       [[19,  0],\n",
       "        [ 0,  5]],\n",
       "\n",
       "       [[21,  1],\n",
       "        [ 1,  1]],\n",
       "\n",
       "       [[22,  0],\n",
       "        [ 0,  2]]], dtype=int64)"
      ]
     },
     "execution_count": 40,
     "metadata": {},
     "output_type": "execute_result"
    }
   ],
   "source": [
    "multilabel_confusion_matrix(y_true, y_pred)"
   ]
  },
  {
   "cell_type": "code",
   "execution_count": 41,
   "id": "acaa6663",
   "metadata": {},
   "outputs": [
    {
     "data": {
      "text/plain": [
       "0.7916666666666666"
      ]
     },
     "execution_count": 41,
     "metadata": {},
     "output_type": "execute_result"
    }
   ],
   "source": [
    "accuracy_score(y_true, y_pred)"
   ]
  },
  {
   "cell_type": "code",
   "execution_count": 42,
   "id": "7a042df3",
   "metadata": {},
   "outputs": [
    {
     "data": {
      "text/plain": [
       "0.9956140350877193"
      ]
     },
     "execution_count": 42,
     "metadata": {},
     "output_type": "execute_result"
    }
   ],
   "source": [
    "accuracy_score(y_true_train, y_pred_train)"
   ]
  },
  {
   "cell_type": "code",
   "execution_count": 45,
   "id": "d94f37b4",
   "metadata": {},
   "outputs": [
    {
     "name": "stdout",
     "output_type": "stream",
     "text": [
      "<class 'mediapipe.python.solution_base.SolutionOutputs'>\n",
      "<class 'mediapipe.python.solution_base.SolutionOutputs'>\n",
      "<class 'mediapipe.python.solution_base.SolutionOutputs'>\n",
      "<class 'mediapipe.python.solution_base.SolutionOutputs'>\n",
      "<class 'mediapipe.python.solution_base.SolutionOutputs'>\n",
      "<class 'mediapipe.python.solution_base.SolutionOutputs'>\n",
      "<class 'mediapipe.python.solution_base.SolutionOutputs'>\n",
      "<class 'mediapipe.python.solution_base.SolutionOutputs'>\n",
      "<class 'mediapipe.python.solution_base.SolutionOutputs'>\n",
      "<class 'mediapipe.python.solution_base.SolutionOutputs'>\n",
      "<class 'mediapipe.python.solution_base.SolutionOutputs'>\n",
      "<class 'mediapipe.python.solution_base.SolutionOutputs'>\n",
      "<class 'mediapipe.python.solution_base.SolutionOutputs'>\n",
      "<class 'mediapipe.python.solution_base.SolutionOutputs'>\n",
      "<class 'mediapipe.python.solution_base.SolutionOutputs'>\n",
      "<class 'mediapipe.python.solution_base.SolutionOutputs'>\n",
      "<class 'mediapipe.python.solution_base.SolutionOutputs'>\n",
      "<class 'mediapipe.python.solution_base.SolutionOutputs'>\n",
      "<class 'mediapipe.python.solution_base.SolutionOutputs'>\n",
      "<class 'mediapipe.python.solution_base.SolutionOutputs'>\n",
      "<class 'mediapipe.python.solution_base.SolutionOutputs'>\n",
      "<class 'mediapipe.python.solution_base.SolutionOutputs'>\n",
      "<class 'mediapipe.python.solution_base.SolutionOutputs'>\n",
      "<class 'mediapipe.python.solution_base.SolutionOutputs'>\n",
      "<class 'mediapipe.python.solution_base.SolutionOutputs'>\n",
      "<class 'mediapipe.python.solution_base.SolutionOutputs'>\n",
      "<class 'mediapipe.python.solution_base.SolutionOutputs'>\n",
      "<class 'mediapipe.python.solution_base.SolutionOutputs'>\n",
      "<class 'mediapipe.python.solution_base.SolutionOutputs'>\n",
      "<class 'mediapipe.python.solution_base.SolutionOutputs'>\n",
      "pain\n",
      "<class 'mediapipe.python.solution_base.SolutionOutputs'>\n",
      "pain\n",
      "<class 'mediapipe.python.solution_base.SolutionOutputs'>\n",
      "pain\n",
      "<class 'mediapipe.python.solution_base.SolutionOutputs'>\n",
      "pain\n",
      "<class 'mediapipe.python.solution_base.SolutionOutputs'>\n",
      "pain\n",
      "<class 'mediapipe.python.solution_base.SolutionOutputs'>\n",
      "pain\n",
      "<class 'mediapipe.python.solution_base.SolutionOutputs'>\n",
      "pain\n",
      "<class 'mediapipe.python.solution_base.SolutionOutputs'>\n",
      "pain\n",
      "<class 'mediapipe.python.solution_base.SolutionOutputs'>\n",
      "pain\n",
      "<class 'mediapipe.python.solution_base.SolutionOutputs'>\n",
      "pain\n",
      "<class 'mediapipe.python.solution_base.SolutionOutputs'>\n",
      "pain\n",
      "<class 'mediapipe.python.solution_base.SolutionOutputs'>\n",
      "pain\n",
      "<class 'mediapipe.python.solution_base.SolutionOutputs'>\n",
      "pain\n",
      "<class 'mediapipe.python.solution_base.SolutionOutputs'>\n",
      "pain\n",
      "<class 'mediapipe.python.solution_base.SolutionOutputs'>\n",
      "pain\n",
      "<class 'mediapipe.python.solution_base.SolutionOutputs'>\n",
      "pain\n",
      "<class 'mediapipe.python.solution_base.SolutionOutputs'>\n",
      "pain\n",
      "<class 'mediapipe.python.solution_base.SolutionOutputs'>\n",
      "pain\n",
      "<class 'mediapipe.python.solution_base.SolutionOutputs'>\n",
      "pain\n",
      "<class 'mediapipe.python.solution_base.SolutionOutputs'>\n",
      "pain\n",
      "<class 'mediapipe.python.solution_base.SolutionOutputs'>\n",
      "pain\n",
      "<class 'mediapipe.python.solution_base.SolutionOutputs'>\n",
      "pain\n",
      "<class 'mediapipe.python.solution_base.SolutionOutputs'>\n",
      "pain\n",
      "<class 'mediapipe.python.solution_base.SolutionOutputs'>\n",
      "pain\n",
      "<class 'mediapipe.python.solution_base.SolutionOutputs'>\n",
      "pain\n",
      "<class 'mediapipe.python.solution_base.SolutionOutputs'>\n",
      "pain\n",
      "<class 'mediapipe.python.solution_base.SolutionOutputs'>\n",
      "pain\n",
      "<class 'mediapipe.python.solution_base.SolutionOutputs'>\n",
      "pain\n",
      "<class 'mediapipe.python.solution_base.SolutionOutputs'>\n",
      "pain\n",
      "<class 'mediapipe.python.solution_base.SolutionOutputs'>\n",
      "pain\n",
      "<class 'mediapipe.python.solution_base.SolutionOutputs'>\n",
      "pain\n",
      "<class 'mediapipe.python.solution_base.SolutionOutputs'>\n",
      "pain\n",
      "<class 'mediapipe.python.solution_base.SolutionOutputs'>\n",
      "hot\n",
      "<class 'mediapipe.python.solution_base.SolutionOutputs'>\n",
      "hot\n",
      "<class 'mediapipe.python.solution_base.SolutionOutputs'>\n",
      "lose\n",
      "<class 'mediapipe.python.solution_base.SolutionOutputs'>\n",
      "lose\n",
      "<class 'mediapipe.python.solution_base.SolutionOutputs'>\n",
      "lose\n",
      "<class 'mediapipe.python.solution_base.SolutionOutputs'>\n",
      "lose\n",
      "<class 'mediapipe.python.solution_base.SolutionOutputs'>\n",
      "lose\n",
      "<class 'mediapipe.python.solution_base.SolutionOutputs'>\n",
      "doctor\n",
      "<class 'mediapipe.python.solution_base.SolutionOutputs'>\n",
      "doctor\n",
      "<class 'mediapipe.python.solution_base.SolutionOutputs'>\n",
      "doctor\n",
      "<class 'mediapipe.python.solution_base.SolutionOutputs'>\n",
      "doctor\n",
      "<class 'mediapipe.python.solution_base.SolutionOutputs'>\n",
      "doctor\n",
      "<class 'mediapipe.python.solution_base.SolutionOutputs'>\n",
      "doctor\n",
      "<class 'mediapipe.python.solution_base.SolutionOutputs'>\n",
      "doctor\n",
      "<class 'mediapipe.python.solution_base.SolutionOutputs'>\n",
      "doctor\n",
      "<class 'mediapipe.python.solution_base.SolutionOutputs'>\n",
      "doctor\n",
      "<class 'mediapipe.python.solution_base.SolutionOutputs'>\n",
      "doctor\n",
      "<class 'mediapipe.python.solution_base.SolutionOutputs'>\n",
      "doctor\n",
      "<class 'mediapipe.python.solution_base.SolutionOutputs'>\n",
      "doctor\n",
      "<class 'mediapipe.python.solution_base.SolutionOutputs'>\n",
      "doctor\n",
      "<class 'mediapipe.python.solution_base.SolutionOutputs'>\n",
      "doctor\n",
      "<class 'mediapipe.python.solution_base.SolutionOutputs'>\n",
      "doctor\n",
      "<class 'mediapipe.python.solution_base.SolutionOutputs'>\n",
      "doctor\n",
      "<class 'mediapipe.python.solution_base.SolutionOutputs'>\n",
      "doctor\n",
      "<class 'mediapipe.python.solution_base.SolutionOutputs'>\n",
      "doctor\n",
      "<class 'mediapipe.python.solution_base.SolutionOutputs'>\n",
      "help\n",
      "<class 'mediapipe.python.solution_base.SolutionOutputs'>\n",
      "help\n",
      "<class 'mediapipe.python.solution_base.SolutionOutputs'>\n",
      "help\n",
      "<class 'mediapipe.python.solution_base.SolutionOutputs'>\n",
      "help\n",
      "<class 'mediapipe.python.solution_base.SolutionOutputs'>\n",
      "help\n",
      "<class 'mediapipe.python.solution_base.SolutionOutputs'>\n",
      "help\n",
      "<class 'mediapipe.python.solution_base.SolutionOutputs'>\n",
      "help\n",
      "<class 'mediapipe.python.solution_base.SolutionOutputs'>\n",
      "help\n",
      "<class 'mediapipe.python.solution_base.SolutionOutputs'>\n",
      "help\n",
      "<class 'mediapipe.python.solution_base.SolutionOutputs'>\n",
      "help\n",
      "<class 'mediapipe.python.solution_base.SolutionOutputs'>\n",
      "help\n",
      "<class 'mediapipe.python.solution_base.SolutionOutputs'>\n",
      "help\n",
      "<class 'mediapipe.python.solution_base.SolutionOutputs'>\n",
      "help\n",
      "<class 'mediapipe.python.solution_base.SolutionOutputs'>\n",
      "help\n",
      "<class 'mediapipe.python.solution_base.SolutionOutputs'>\n",
      "help\n",
      "<class 'mediapipe.python.solution_base.SolutionOutputs'>\n",
      "help\n",
      "<class 'mediapipe.python.solution_base.SolutionOutputs'>\n",
      "help\n",
      "<class 'mediapipe.python.solution_base.SolutionOutputs'>\n",
      "help\n",
      "<class 'mediapipe.python.solution_base.SolutionOutputs'>\n",
      "help\n",
      "<class 'mediapipe.python.solution_base.SolutionOutputs'>\n",
      "help\n",
      "<class 'mediapipe.python.solution_base.SolutionOutputs'>\n",
      "help\n",
      "<class 'mediapipe.python.solution_base.SolutionOutputs'>\n",
      "help\n",
      "<class 'mediapipe.python.solution_base.SolutionOutputs'>\n",
      "help\n",
      "<class 'mediapipe.python.solution_base.SolutionOutputs'>\n",
      "help\n",
      "<class 'mediapipe.python.solution_base.SolutionOutputs'>\n",
      "help\n",
      "<class 'mediapipe.python.solution_base.SolutionOutputs'>\n",
      "help\n",
      "<class 'mediapipe.python.solution_base.SolutionOutputs'>\n",
      "help\n",
      "<class 'mediapipe.python.solution_base.SolutionOutputs'>\n",
      "help\n",
      "<class 'mediapipe.python.solution_base.SolutionOutputs'>\n",
      "help\n",
      "<class 'mediapipe.python.solution_base.SolutionOutputs'>\n",
      "help\n",
      "<class 'mediapipe.python.solution_base.SolutionOutputs'>\n",
      "help\n",
      "<class 'mediapipe.python.solution_base.SolutionOutputs'>\n",
      "help\n",
      "<class 'mediapipe.python.solution_base.SolutionOutputs'>\n",
      "help\n",
      "<class 'mediapipe.python.solution_base.SolutionOutputs'>\n",
      "help\n",
      "<class 'mediapipe.python.solution_base.SolutionOutputs'>\n",
      "help\n",
      "<class 'mediapipe.python.solution_base.SolutionOutputs'>\n",
      "help\n",
      "<class 'mediapipe.python.solution_base.SolutionOutputs'>\n",
      "help\n",
      "<class 'mediapipe.python.solution_base.SolutionOutputs'>\n",
      "help\n",
      "<class 'mediapipe.python.solution_base.SolutionOutputs'>\n",
      "help\n",
      "<class 'mediapipe.python.solution_base.SolutionOutputs'>\n",
      "help\n",
      "<class 'mediapipe.python.solution_base.SolutionOutputs'>\n",
      "help\n",
      "<class 'mediapipe.python.solution_base.SolutionOutputs'>\n",
      "help\n",
      "<class 'mediapipe.python.solution_base.SolutionOutputs'>\n",
      "help\n",
      "<class 'mediapipe.python.solution_base.SolutionOutputs'>\n",
      "help\n",
      "<class 'mediapipe.python.solution_base.SolutionOutputs'>\n",
      "help\n",
      "<class 'mediapipe.python.solution_base.SolutionOutputs'>\n",
      "help\n",
      "<class 'mediapipe.python.solution_base.SolutionOutputs'>\n",
      "help\n",
      "<class 'mediapipe.python.solution_base.SolutionOutputs'>\n",
      "help\n",
      "<class 'mediapipe.python.solution_base.SolutionOutputs'>\n",
      "help\n"
     ]
    },
    {
     "name": "stdout",
     "output_type": "stream",
     "text": [
      "<class 'mediapipe.python.solution_base.SolutionOutputs'>\n",
      "help\n",
      "<class 'mediapipe.python.solution_base.SolutionOutputs'>\n",
      "help\n",
      "<class 'mediapipe.python.solution_base.SolutionOutputs'>\n",
      "help\n",
      "<class 'mediapipe.python.solution_base.SolutionOutputs'>\n",
      "help\n",
      "<class 'mediapipe.python.solution_base.SolutionOutputs'>\n",
      "help\n",
      "<class 'mediapipe.python.solution_base.SolutionOutputs'>\n",
      "help\n",
      "<class 'mediapipe.python.solution_base.SolutionOutputs'>\n",
      "help\n",
      "<class 'mediapipe.python.solution_base.SolutionOutputs'>\n",
      "help\n",
      "<class 'mediapipe.python.solution_base.SolutionOutputs'>\n",
      "help\n",
      "<class 'mediapipe.python.solution_base.SolutionOutputs'>\n",
      "help\n",
      "<class 'mediapipe.python.solution_base.SolutionOutputs'>\n",
      "help\n",
      "<class 'mediapipe.python.solution_base.SolutionOutputs'>\n",
      "help\n",
      "<class 'mediapipe.python.solution_base.SolutionOutputs'>\n",
      "help\n",
      "<class 'mediapipe.python.solution_base.SolutionOutputs'>\n",
      "help\n",
      "<class 'mediapipe.python.solution_base.SolutionOutputs'>\n",
      "help\n",
      "<class 'mediapipe.python.solution_base.SolutionOutputs'>\n",
      "help\n",
      "<class 'mediapipe.python.solution_base.SolutionOutputs'>\n",
      "help\n",
      "<class 'mediapipe.python.solution_base.SolutionOutputs'>\n",
      "help\n",
      "<class 'mediapipe.python.solution_base.SolutionOutputs'>\n",
      "help\n",
      "<class 'mediapipe.python.solution_base.SolutionOutputs'>\n",
      "help\n",
      "<class 'mediapipe.python.solution_base.SolutionOutputs'>\n",
      "help\n",
      "<class 'mediapipe.python.solution_base.SolutionOutputs'>\n",
      "help\n",
      "<class 'mediapipe.python.solution_base.SolutionOutputs'>\n",
      "help\n",
      "<class 'mediapipe.python.solution_base.SolutionOutputs'>\n",
      "help\n",
      "<class 'mediapipe.python.solution_base.SolutionOutputs'>\n",
      "help\n",
      "<class 'mediapipe.python.solution_base.SolutionOutputs'>\n",
      "help\n",
      "<class 'mediapipe.python.solution_base.SolutionOutputs'>\n",
      "help\n",
      "<class 'mediapipe.python.solution_base.SolutionOutputs'>\n",
      "help\n",
      "<class 'mediapipe.python.solution_base.SolutionOutputs'>\n",
      "help\n",
      "<class 'mediapipe.python.solution_base.SolutionOutputs'>\n",
      "help\n",
      "<class 'mediapipe.python.solution_base.SolutionOutputs'>\n",
      "help\n",
      "<class 'mediapipe.python.solution_base.SolutionOutputs'>\n",
      "help\n",
      "<class 'mediapipe.python.solution_base.SolutionOutputs'>\n",
      "help\n",
      "<class 'mediapipe.python.solution_base.SolutionOutputs'>\n",
      "help\n",
      "<class 'mediapipe.python.solution_base.SolutionOutputs'>\n",
      "help\n",
      "<class 'mediapipe.python.solution_base.SolutionOutputs'>\n",
      "help\n",
      "<class 'mediapipe.python.solution_base.SolutionOutputs'>\n",
      "help\n",
      "<class 'mediapipe.python.solution_base.SolutionOutputs'>\n",
      "help\n",
      "<class 'mediapipe.python.solution_base.SolutionOutputs'>\n",
      "help\n",
      "<class 'mediapipe.python.solution_base.SolutionOutputs'>\n",
      "help\n",
      "<class 'mediapipe.python.solution_base.SolutionOutputs'>\n",
      "help\n",
      "<class 'mediapipe.python.solution_base.SolutionOutputs'>\n",
      "help\n",
      "<class 'mediapipe.python.solution_base.SolutionOutputs'>\n",
      "help\n",
      "<class 'mediapipe.python.solution_base.SolutionOutputs'>\n",
      "help\n",
      "<class 'mediapipe.python.solution_base.SolutionOutputs'>\n",
      "help\n",
      "<class 'mediapipe.python.solution_base.SolutionOutputs'>\n",
      "help\n",
      "<class 'mediapipe.python.solution_base.SolutionOutputs'>\n",
      "thief\n",
      "<class 'mediapipe.python.solution_base.SolutionOutputs'>\n",
      "thief\n",
      "<class 'mediapipe.python.solution_base.SolutionOutputs'>\n",
      "thief\n",
      "<class 'mediapipe.python.solution_base.SolutionOutputs'>\n",
      "thief\n",
      "<class 'mediapipe.python.solution_base.SolutionOutputs'>\n",
      "thief\n",
      "<class 'mediapipe.python.solution_base.SolutionOutputs'>\n",
      "thief\n",
      "<class 'mediapipe.python.solution_base.SolutionOutputs'>\n",
      "thief\n",
      "<class 'mediapipe.python.solution_base.SolutionOutputs'>\n",
      "thief\n",
      "<class 'mediapipe.python.solution_base.SolutionOutputs'>\n",
      "thief\n",
      "<class 'mediapipe.python.solution_base.SolutionOutputs'>\n",
      "thief\n",
      "<class 'mediapipe.python.solution_base.SolutionOutputs'>\n",
      "thief\n",
      "<class 'mediapipe.python.solution_base.SolutionOutputs'>\n",
      "thief\n",
      "<class 'mediapipe.python.solution_base.SolutionOutputs'>\n",
      "thief\n",
      "<class 'mediapipe.python.solution_base.SolutionOutputs'>\n",
      "thief\n",
      "<class 'mediapipe.python.solution_base.SolutionOutputs'>\n",
      "thief\n",
      "<class 'mediapipe.python.solution_base.SolutionOutputs'>\n",
      "thief\n",
      "<class 'mediapipe.python.solution_base.SolutionOutputs'>\n",
      "hot\n",
      "<class 'mediapipe.python.solution_base.SolutionOutputs'>\n",
      "hot\n",
      "<class 'mediapipe.python.solution_base.SolutionOutputs'>\n",
      "hot\n",
      "<class 'mediapipe.python.solution_base.SolutionOutputs'>\n",
      "hot\n"
     ]
    }
   ],
   "source": [
    "sequence = []\n",
    "sentence = []\n",
    "predictions = []\n",
    "threshold = 0.7\n",
    "\n",
    "cap = cv2.VideoCapture(0)\n",
    "# Set mediapipe model \n",
    "with mp_holistic.Holistic(min_detection_confidence=0.5, min_tracking_confidence=0.5) as holistic:\n",
    "    while cap.isOpened():\n",
    "\n",
    "        # Read feed\n",
    "        ret, frame = cap.read()\n",
    "\n",
    "        # Make detections\n",
    "        image, results = mediapipe_detection(frame, holistic)\n",
    "        print(results)\n",
    "        \n",
    "        # Draw landmarks\n",
    "        draw_styled_landmarks(image, results)\n",
    "        \n",
    "        # 2. Prediction logic\n",
    "        keypoints = extract_keypoints(results)\n",
    "        sequence.append(keypoints)\n",
    "        sequence = sequence[-30:]\n",
    "        \n",
    "        if len(sequence) == 30:\n",
    "            res = model.predict(np.expand_dims(sequence, axis=0))[0] # to get the required shape we transform the data\n",
    "            print(actions[np.argmax(res)])\n",
    "            predictions.append(np.argmax(res))\n",
    "            \n",
    "            \n",
    "        #3. Visualisation logic\n",
    "            if np.unique(predictions[-20:])[0]==np.argmax(res): \n",
    "                if res[np.argmax(res)] > threshold: \n",
    "                    \n",
    "                    if len(sentence) > 0: \n",
    "                        if actions[np.argmax(res)] != sentence[-1]:\n",
    "                            sentence.append(actions[np.argmax(res)])\n",
    "                    else:\n",
    "                        sentence.append(actions[np.argmax(res)])\n",
    "\n",
    "            if len(sentence) > 5: \n",
    "                sentence = sentence[-5:]\n",
    "\n",
    "#             # Viz probabilities\n",
    "#             image = prob_viz(res, actions, image, colors)\n",
    "            \n",
    "        cv2.rectangle(image, (0,0), (640, 40), (245, 117, 16), -1)\n",
    "        cv2.putText(image, ' '.join(sentence), (3,30), \n",
    "                       cv2.FONT_HERSHEY_SIMPLEX, 1, (255, 255, 255), 2, cv2.LINE_AA)\n",
    "        \n",
    "        # Show to screen\n",
    "        cv2.imshow('OpenCV Feed', image)\n",
    "\n",
    "        # Break gracefully\n",
    "        if cv2.waitKey(10) & 0xFF == ord('q'):\n",
    "            break\n",
    "    cap.release()\n",
    "    cv2.destroyAllWindows()"
   ]
  },
  {
   "cell_type": "code",
   "execution_count": null,
   "id": "077b0b43",
   "metadata": {},
   "outputs": [],
   "source": []
  },
  {
   "cell_type": "code",
   "execution_count": null,
   "id": "cedd2707",
   "metadata": {},
   "outputs": [],
   "source": []
  }
 ],
 "metadata": {
  "kernelspec": {
   "display_name": "Python 3",
   "language": "python",
   "name": "python3"
  },
  "language_info": {
   "codemirror_mode": {
    "name": "ipython",
    "version": 3
   },
   "file_extension": ".py",
   "mimetype": "text/x-python",
   "name": "python",
   "nbconvert_exporter": "python",
   "pygments_lexer": "ipython3",
   "version": "3.9.2"
  }
 },
 "nbformat": 4,
 "nbformat_minor": 5
}
